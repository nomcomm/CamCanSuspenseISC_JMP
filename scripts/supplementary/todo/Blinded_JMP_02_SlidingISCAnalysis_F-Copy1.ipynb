{
 "cells": [
  {
   "cell_type": "markdown",
   "metadata": {},
   "source": [
    "### ISC CamCan Suspense\n",
    "\n",
    "This notebook implements the sliding-window ISC analysis on the CamCan data, and links the resulting dynamic ISC to reported suspense (obtained from an independent audience)."
   ]
  },
  {
   "cell_type": "markdown",
   "metadata": {},
   "source": [
    "### setting up modules"
   ]
  },
  {
   "cell_type": "code",
   "execution_count": 1,
   "metadata": {},
   "outputs": [],
   "source": [
    "import os, sys, scipy, nilearn, warnings\n",
    "warnings.filterwarnings(\"ignore\")\n",
    "import numpy as np\n",
    "from nilearn import plotting, input_data\n",
    "from nilearn.input_data import NiftiLabelsMasker\n",
    "import seaborn as sns\n",
    "import pandas as pd\n",
    "from scipy import stats\n",
    "\n",
    "import matplotlib.pyplot as plt\n",
    "%matplotlib inline\n",
    "\n",
    "from camcan_utils import *"
   ]
  },
  {
   "cell_type": "markdown",
   "metadata": {},
   "source": [
    "### set up files"
   ]
  },
  {
   "cell_type": "code",
   "execution_count": 2,
   "metadata": {},
   "outputs": [],
   "source": [
    "suspense_file         = '../data/avg_suspense.npy'\n",
    "dict_file             = '../data/timeseries_dictionary.npy'\n",
    "ts_data_file          = '../data/ts_data.npy'\n",
    "shen_dictionary_file  = '../data/shen_dictionary.npy'\n",
    "shen_atlas_filename   = '../data/shen_2mm_268_parcellation.nii'\n",
    "sample_file           = '../data/func.nii'\n",
    "dyn_isc_file          = '../data/dyn_isc_dict.npy'\n"
   ]
  },
  {
   "cell_type": "markdown",
   "metadata": {},
   "source": [
    "### load data \n",
    "see description in notebook on main ISC analysis"
   ]
  },
  {
   "cell_type": "code",
   "execution_count": 3,
   "metadata": {},
   "outputs": [
    {
     "data": {
      "text/plain": [
       "268"
      ]
     },
     "execution_count": 3,
     "metadata": {},
     "output_type": "execute_result"
    }
   ],
   "source": [
    "ts_data = np.load(ts_data_file)\n",
    "n_tr, n_regions, n_subjs = ts_data.shape\n",
    "n_regions"
   ]
  },
  {
   "cell_type": "markdown",
   "metadata": {},
   "source": [
    "### compute dynamic ISC analysis"
   ]
  },
  {
   "cell_type": "code",
   "execution_count": null,
   "metadata": {},
   "outputs": [
    {
     "name": "stdout",
     "output_type": "stream",
     "text": [
      "Assuming 494 subjects with 193 time points and 268 voxel(s) or ROI(s).\n",
      "\n",
      "1%"
     ]
    }
   ],
   "source": [
    "#''' \n",
    "### compute main sliding window analysis across full data (takes a while - hence precomputed)\n",
    "dyn_isc_result_all = camcan_sliding_isc(ts_data[:,:,:])\n",
    "\n",
    "#### set up two sub-samples (for consistency check)\n",
    "subject_chunks = [[0, int(n_subjs/2)],\n",
    "                  [int(n_subjs/2), n_subjs]]\n",
    "\n",
    "n_iterations = len(subject_chunks)\n",
    "\n",
    "dyn_isc_result = np.zeros((n_iterations, n_tr, n_regions))\n",
    "\n",
    "sub_index = np.arange(n_subjs)\n",
    "np.random.shuffle(sub_index)\n",
    "\n",
    "for curr_sample in range(n_iterations): \n",
    "    print('Working on subgroup #', (curr_sample +1 ), ' of ', n_iterations)\n",
    "    people_to_use = np.arange(subject_chunks[curr_sample][0], subject_chunks[curr_sample][1], 1)\n",
    "\n",
    "    D = ts_data[:,:,sub_index[people_to_use] ]\n",
    "    dyn_isc_result[curr_sample, :, :] = camcan_sliding_isc(D)\n",
    "\n",
    "### save results - because computing them every time from scratch takes a lot of time \n",
    "### we save the output here so we can load it quicker later on\n",
    "\n",
    "dyn_isc_dict = {}\n",
    "dyn_isc_dict['dyn_isc_result_all'] = dyn_isc_result_all\n",
    "dyn_isc_dict['dyn_isc_result_splithalf'] = dyn_isc_result\n",
    "\n",
    "np.save('../data/dyn_isc_dict.npy', dyn_isc_dict) \n",
    "\n",
    "np.corrcoef( scipy.stats.zscore(np.nanmean(dyn_isc_result[0,:,:], axis = 1)), \n",
    "             scipy.stats.zscore(np.nanmean(dyn_isc_result[1,:,:], axis = 1)) )[0,1]\n",
    "\n",
    "#'''\n",
    "\n",
    "# if precomputed\n",
    "#dyn_isc_dict       = np.load(dyn_isc_file).item() \n",
    "#dyn_isc_dict.keys()\n",
    "#dyn_isc_result_all = dyn_isc_dict['dyn_isc_result_all']       #this is the result across the full sample\n",
    "#dyn_isc_result     = dyn_isc_dict['dyn_isc_result_splithalf'] #this is the result for one random group split\n"
   ]
  },
  {
   "cell_type": "markdown",
   "metadata": {},
   "source": [
    "### plot dynISC: Whole brain (Figure 3A)"
   ]
  },
  {
   "cell_type": "code",
   "execution_count": null,
   "metadata": {},
   "outputs": [],
   "source": [
    "f = plt.figure(figsize=(8,4))\n",
    "ax1 = f.add_subplot(111)\n",
    "ax1.plot(scipy.stats.zscore(np.nanmean(dyn_isc_result_all[:,:], axis = 1)), color = 'black', label = 'dynISC across Brain (Whole Group)');\n",
    "ax1.plot(scipy.stats.zscore(np.nanmean(dyn_isc_result[0,:,:],   axis = 1)), color = 'gray',  label = 'dynISC (Group1)');\n",
    "ax1.plot(scipy.stats.zscore(np.nanmean(dyn_isc_result[1,:,:],   axis = 1)), color = 'gray',  label = 'dynISC (Group2)');\n",
    "plt.legend(loc = 2)\n",
    "plt.xlabel('Time')\n",
    "plt.ylabel('low      dynamic ISC        high')\n",
    "plt.ylim(-3, 4.5)\n",
    "plt.xticks([]);\n",
    "plt.yticks([]);\n",
    "sns.despine()"
   ]
  },
  {
   "cell_type": "markdown",
   "metadata": {},
   "source": [
    "### plot dynISC: aMCC (Figure 3B)"
   ]
  },
  {
   "cell_type": "code",
   "execution_count": null,
   "metadata": {},
   "outputs": [],
   "source": [
    "curr_region = 220 #aMCC\n",
    "shen_dictionary = np.load(shen_dictionary_file).item()\n",
    "curr_title = shen_dictionary[curr_region + 1]['name'] \n",
    "print(curr_title)\n",
    "curr_coords = shen_dictionary[curr_region + 1]['coords'] \n",
    "\n",
    "f = plt.figure(figsize=(8,8))\n",
    "ax1 = f.add_subplot(211)\n",
    "ax1.plot(scipy.stats.zscore(dyn_isc_result_all[:,curr_region]), color = 'green',          label = 'dynISC aMCC (Whole Group)');\n",
    "ax1.plot(scipy.stats.zscore(dyn_isc_result[0,:,curr_region]),   color = 'mediumseagreen', label = 'dynISC aMCC (Group1)');\n",
    "ax1.plot(scipy.stats.zscore(dyn_isc_result[1,:,curr_region]),   color = 'mediumseagreen', label = 'dynISC aMCC (Group2)');\n",
    "plt.legend(loc = 2)\n",
    "plt.xlabel('Time')\n",
    "plt.ylabel('low      dynamic ISC        high')\n",
    "plt.ylim(-3, 4.5)\n",
    "plt.xticks([]);\n",
    "plt.yticks([]);\n",
    "sns.despine()\n",
    "\n",
    "ax2 = f.add_subplot(212)    \n",
    "nilearn.plotting.plot_stat_map(nilearn.image.index_img(region_img,0),threshold = 0.45, vmax = 1., draw_cross = True,colorbar = False,\n",
    "                                       cmap = 'Greens',  annotate = False,cut_coords = curr_coords,\n",
    "                                       axes = ax2);\n"
   ]
  },
  {
   "cell_type": "markdown",
   "metadata": {},
   "source": [
    "### dynISC  vs CRM: Whole brain "
   ]
  },
  {
   "cell_type": "code",
   "execution_count": null,
   "metadata": {},
   "outputs": [],
   "source": [
    "f = plt.figure(figsize=(8,4))\n",
    "ax1 = f.add_subplot(111)\n",
    "\n",
    "suspense = np.load(suspense_file)\n",
    "\n",
    "ax1.plot(scipy.stats.zscore(suspense),   color = 'red',   label = 'Suspense (CRM)' );\n",
    "ax1.plot(scipy.stats.zscore(np.nanmean(dyn_isc_result_all[:,:], axis = 1)), color = 'black', label = 'dynISC (all viewers)'   );\n",
    "#ax1.plot(scipy.stats.zscore(np.nanmean(dyn_isc_result[0,:,:], axis = 1)),   color = 'gray',  label = 'dynISC (Group1)' );\n",
    "#ax1.plot(scipy.stats.zscore(np.nanmean(dyn_isc_result[1,:,:], axis = 1)),   color = 'gray',  label = 'dynISC (Group2)');\n",
    "\n",
    "plt.legend(loc = 0)\n",
    "plt.ylim(-3, 4.3)\n",
    "plt.xlabel('Time')\n",
    "plt.ylabel('low       ISC | Suspsense (z-scored)        high')\n",
    "plt.xticks([]);\n",
    "plt.yticks([]);\n",
    "sns.despine()\n",
    "\n",
    "alignment = np.corrcoef(\n",
    "                (scipy.stats.zscore(np.nanmean(dyn_isc_result_all[:,:], axis = 1)) ),\n",
    "                 scipy.stats.zscore(suspense) )[0,1]\n",
    "\n",
    "print('Alignment: ' + str(np.round(alignment, 2)) )"
   ]
  },
  {
   "cell_type": "markdown",
   "metadata": {},
   "source": [
    "### Regional dynISC  vs CRM: ACC"
   ]
  },
  {
   "cell_type": "code",
   "execution_count": null,
   "metadata": {},
   "outputs": [],
   "source": [
    "curr_region = 220 \n",
    "shen_dictionary = np.load(shen_dictionary_file).item()\n",
    "curr_title = shen_dictionary[curr_region + 1]['name'] \n",
    "curr_coords = shen_dictionary[curr_region + 1]['coords'] \n",
    "\n",
    "f = plt.figure(figsize=(8,8))\n",
    "region_vector = np.zeros((1,268))\n",
    "region_vector[0,curr_region] = 0.5\n",
    "shen_masker = NiftiLabelsMasker(labels_img=shen_atlas_filename);\n",
    "shen_masker.fit_transform(sample_file);\n",
    "region_img = shen_masker.inverse_transform(region_vector);\n",
    "\n",
    "curr_title = shen_dictionary[curr_region + 1]['name'] \n",
    "curr_coords = shen_dictionary[curr_region + 1]['coords'] \n",
    "    \n",
    "ax1 = f.add_subplot(211)\n",
    "\n",
    "ax1.plot(scipy.stats.zscore(suspense), color = 'red',   label = 'Suspense (CRM)');\n",
    "ax1.plot(scipy.stats.zscore(dyn_isc_result_all[:,curr_region]),             color = 'green', label = 'dynISC regional (all)');\n",
    "\n",
    "plt.legend(loc = 0)\n",
    "plt.ylim(-3, 3)\n",
    "plt.xlabel('Time')\n",
    "plt.ylabel('low   ISC | Suspsense (z-scored)    high')\n",
    "plt.xticks([]);\n",
    "plt.yticks([]);\n",
    "sns.despine()\n",
    "\n",
    "ax2 = f.add_subplot(212)    \n",
    "nilearn.plotting.plot_stat_map(nilearn.image.index_img(region_img,0),threshold = 0.45, vmax = 1., draw_cross = True,colorbar = False,\n",
    "                                       cmap = 'Greens',  annotate = False,cut_coords = curr_coords,\n",
    "                                       title = str(curr_region),axes = ax2);\n",
    "    \n",
    "print(np.corrcoef(\n",
    "                    (scipy.stats.zscore(dyn_isc_result_all[:,curr_region]) ),\n",
    "                     scipy.stats.zscore(suspense))[0,1]) "
   ]
  },
  {
   "cell_type": "markdown",
   "metadata": {},
   "source": [
    "### Regional dynISC  vs CRM: lateral frontal"
   ]
  },
  {
   "cell_type": "code",
   "execution_count": null,
   "metadata": {
    "scrolled": false
   },
   "outputs": [],
   "source": [
    "curr_region = 27\n",
    "shen_dictionary = np.load(shen_dictionary_file).item()\n",
    "curr_title = shen_dictionary[curr_region + 1]['name'] \n",
    "curr_coords = shen_dictionary[curr_region + 1]['coords'] \n",
    "\n",
    "f = plt.figure(figsize=(8,8))\n",
    "region_vector = np.zeros((1,268))\n",
    "region_vector[0,curr_region] = 0.5\n",
    "region_img = shen_masker.inverse_transform(region_vector);\n",
    "\n",
    "curr_title = shen_dictionary[curr_region + 1]['name'] \n",
    "curr_coords = shen_dictionary[curr_region + 1]['coords'] \n",
    "    \n",
    "ax1 = f.add_subplot(211)\n",
    "ax1.plot(scipy.stats.zscore(suspense), color = 'red',   label = 'Suspense (CRM)');\n",
    "ax1.plot(scipy.stats.zscore(dyn_isc_result_all[:,curr_region]),             color = 'blue', label = 'dynISC regional (all)');\n",
    "\n",
    "plt.legend(loc = 0)\n",
    "plt.ylim(-3, 3)\n",
    "plt.xlabel('Time')\n",
    "plt.ylabel('low   ISC | Suspsense (z-scored)    high')\n",
    "plt.xticks([]);\n",
    "plt.yticks([]);\n",
    "sns.despine()\n",
    "\n",
    "ax2 = f.add_subplot(212)    \n",
    "nilearn.plotting.plot_stat_map(nilearn.image.index_img(region_img,0),threshold = 0.45, vmax = 1., draw_cross = True,colorbar = False,\n",
    "                                       cmap = 'PuBu',  annotate = False,cut_coords = curr_coords,\n",
    "                                       title = str(curr_region),axes = ax2);\n",
    "    \n",
    "print(np.corrcoef(\n",
    "                    (scipy.stats.zscore(dyn_isc_result_all[:,curr_region]) ),\n",
    "                     scipy.stats.zscore(suspense))[0,1]) "
   ]
  },
  {
   "cell_type": "code",
   "execution_count": null,
   "metadata": {},
   "outputs": [],
   "source": []
  },
  {
   "cell_type": "markdown",
   "metadata": {},
   "source": [
    "### expand the regional ISC analysis to all regions"
   ]
  },
  {
   "cell_type": "code",
   "execution_count": null,
   "metadata": {},
   "outputs": [],
   "source": [
    "isc_2_crm = np.zeros((1,n_regions))\n",
    "for curr_region in range(n_regions):\n",
    "    isc_2_crm[0,curr_region] = np.corrcoef(dyn_isc_result_all[:, curr_region], suspense)[0,1]\n",
    "\n",
    "isc_2_crm_img = shen_masker.inverse_transform(isc_2_crm);\n",
    "nilearn.plotting.plot_stat_map(nilearn.image.index_img(isc_2_crm_img,0), \n",
    "                               vmax = 0.8, \n",
    "                               draw_cross = True,\n",
    "                               threshold = 0.5, #note this is only for illustration\n",
    "                               cut_coords = (0,30,30),\n",
    "                               #annotate = False,\n",
    "                               title = \"Relationship between regional dynISC and reported suspense\"\n",
    "                              );\n",
    "\n",
    "view = nilearn.plotting.view_img(nilearn.image.index_img(isc_2_crm_img,0) ,\n",
    "                                resampling_interpolation = 'linear',\n",
    "                                threshold = 0.5);\n",
    "view"
   ]
  },
  {
   "cell_type": "code",
   "execution_count": null,
   "metadata": {},
   "outputs": [],
   "source": [
    "# load the dictionary and create the main data structure (ts_data) as well as auxilliary variables.\n",
    "read_dictionary = np.load(dict_file).item()\n",
    "\n",
    "subjs = list(read_dictionary.keys())\n",
    "n_subjs = len(subjs)\n",
    "\n",
    "n_tr, n_regions = read_dictionary[subjs[0]]['funcdata'].shape\n",
    "\n",
    "print(n_subjs)\n",
    "print(n_tr)\n",
    "print(n_regions)\n",
    "\n",
    "ts_data = np.zeros((n_tr, n_regions, n_subjs))\n",
    "ts_data_undet = np.zeros((n_tr, n_regions, n_subjs))\n",
    "motion_data = np.zeros((n_tr, 6, n_subjs))\n",
    "age_data = np.zeros((n_subjs))\n",
    "gender_data = np.zeros((n_subjs))\n",
    "\n",
    "#loop over viewers and fill the ts_data array\n",
    "\n",
    "for curr_sub in range(n_subjs):\n",
    "    curr_sub_name = subjs[curr_sub]\n",
    "    ts_data[:,:, curr_sub] =  read_dictionary[curr_sub_name]['funcdata']\n",
    "    ts_data_undet[:,:, curr_sub] =  read_dictionary[curr_sub_name]['funcdata_unfilt_undet_stand']\n",
    "    motion_data[:,:, curr_sub] =  read_dictionary[curr_sub_name]['motion']\n",
    "    age_data[curr_sub] = read_dictionary[curr_sub_name]['age']\n",
    "    gender_data[curr_sub] = read_dictionary[curr_sub_name]['gender']"
   ]
  },
  {
   "cell_type": "markdown",
   "metadata": {},
   "source": [
    "### quantify movement"
   ]
  },
  {
   "cell_type": "code",
   "execution_count": null,
   "metadata": {},
   "outputs": [],
   "source": [
    "n_mopar = 6\n",
    "movement_quantification = np.zeros((n_mopar, n_subjs))\n",
    "\n",
    "for subj in range(n_subjs):\n",
    "    for mopar in range(n_mopar):\n",
    "        \n",
    "        movement_quantification[mopar, subj] = np.sum(np.abs(np.diff(motion_data[:,mopar,subj])))\n",
    "        \n",
    "plt.imshow(np.corrcoef(movement_quantification), cmap = 'seismic', vmin = -1, vmax = 1);\n",
    "plt.colorbar();\n",
    "plt.show()\n",
    "\n",
    "# as can be seen, the by-subejct extent of motion is highly correlated across the six parameters\n",
    "# if a subject has a lot of motion in one, it also has much in the other parameter (x,y,z, y, r, g)\n",
    "# this provides the basis for collapsing them and ranking subjects in the overall amount.\n",
    "\n",
    "#rank this\n",
    "movement_quantification_ranks = np.zeros(movement_quantification.shape)\n",
    "\n",
    "for parameter in range(movement_quantification.shape[0]):\n",
    "    order = movement_quantification[parameter,:].argsort()\n",
    "    movement_quantification_ranks[parameter,:] = order.argsort()\n",
    "\n",
    "# derive an oerall metric\n",
    "mean_rank = np.mean(movement_quantification_ranks, axis = 0)\n",
    "order = mean_rank.argsort()\n",
    "overall_rank = order.argsort()\n",
    "\n",
    "# select the lowest ranking subjects (stifflers)\n",
    "no_stiffler_indices = (np.where(overall_rank < 50))[0]\n",
    "lo_stiffler_indices = np.setdiff1d(np.where( overall_rank < 100)[0], np.where(overall_rank < 50)[0] )\n",
    "\n",
    "# select the highest ranking subjects (shakers)\n",
    "high_shaker_indices = np.setdiff1d(np.where( overall_rank> (n_subjs-1) - 100)[0], np.where(overall_rank> (n_subjs-1) - 50)[0] )\n",
    "highest_shaker_indices = (np.where(overall_rank > (n_subjs-1) - 50))[0]\n",
    "\n",
    "# check that they differ markedly in movement\n",
    "c = np.hstack((\n",
    "     movement_quantification[:, no_stiffler_indices],\n",
    "     movement_quantification[:, lo_stiffler_indices],\n",
    "     movement_quantification[:, high_shaker_indices],\n",
    "     movement_quantification[:, highest_shaker_indices]))\n",
    "\n",
    "plt.imshow(scipy.stats.zscore(c.T).T);"
   ]
  },
  {
   "cell_type": "code",
   "execution_count": null,
   "metadata": {},
   "outputs": [],
   "source": [
    "lo_stiffler_indices"
   ]
  },
  {
   "cell_type": "code",
   "execution_count": null,
   "metadata": {},
   "outputs": [],
   "source": [
    "no_stiffler_indices"
   ]
  },
  {
   "cell_type": "markdown",
   "metadata": {},
   "source": [
    "### compute dynISC for subgroups separately"
   ]
  },
  {
   "cell_type": "code",
   "execution_count": null,
   "metadata": {},
   "outputs": [],
   "source": [
    "stiffler_shaker_list = [no_stiffler_indices,\n",
    "                        lo_stiffler_indices,\n",
    "                        high_shaker_indices,\n",
    "                        highest_shaker_indices]\n",
    "stiffler_shaker_list "
   ]
  },
  {
   "cell_type": "code",
   "execution_count": null,
   "metadata": {},
   "outputs": [],
   "source": [
    "n_iterations = len(stiffler_shaker_list) #stifflers vs. shakers\n",
    "dyn_isc_result = np.zeros((n_iterations, n_tr, n_regions))\n",
    "\n",
    "for curr_sample in range(n_iterations): \n",
    "    print('Working on subgroup #', (curr_sample +1 ), ' of ', n_iterations)\n",
    "    people_to_use = stiffler_shaker_list[curr_sample]\n",
    "    print('working with those indices ...')\n",
    "    print(people_to_use)\n",
    "\n",
    "    D = ts_data[:,:, people_to_use ]\n",
    "    dyn_isc_result[curr_sample, :, :] = camcan_sliding_isc(D)\n",
    "\n",
    "### save results - because computing them every time from scratch takes a lot of time \n",
    "### we save the output here so we can load it quicker later on\n",
    "\n",
    "dyn_isc_dict = {}\n",
    "dyn_isc_dict['dyn_isc_result_stiffler_shaker'] = dyn_isc_result\n"
   ]
  },
  {
   "cell_type": "code",
   "execution_count": null,
   "metadata": {},
   "outputs": [],
   "source": [
    "f = plt.figure(figsize=(8,4))\n",
    "ax1 = f.add_subplot(111)\n",
    "\n",
    "ax1.plot(scipy.stats.zscore(np.nanmean(dyn_isc_result[0,:,:], axis = 1)),   color = 'gray',  label = 'dynISC (Group1)' );\n",
    "ax1.plot(scipy.stats.zscore(np.nanmean(dyn_isc_result[1,:,:], axis = 1)),   color = 'gray',  label = 'dynISC (Group2)');\n",
    "ax1.plot(scipy.stats.zscore(np.nanmean(dyn_isc_result[2,:,:], axis = 1)),   color = 'gray',  label = 'dynISC (Group2)');\n",
    "ax1.plot(scipy.stats.zscore(np.nanmean(dyn_isc_result[3,:,:], axis = 1)),   color = 'gray',  label = 'dynISC (Group2)');\n"
   ]
  },
  {
   "cell_type": "code",
   "execution_count": null,
   "metadata": {},
   "outputs": [],
   "source": [
    "curr_region = 6 \n",
    "shen_dictionary = np.load(shen_dictionary_file).item()\n",
    "curr_title = shen_dictionary[curr_region + 1]['name'] \n",
    "curr_coords = shen_dictionary[curr_region + 1]['coords'] \n",
    "\n",
    "f = plt.figure(figsize=(8,8))\n",
    "region_vector = np.zeros((1,268))\n",
    "region_vector[0,curr_region] = 0.5\n",
    "region_img = shen_masker.inverse_transform(region_vector);\n",
    "\n",
    "curr_title = shen_dictionary[curr_region + 1]['name'] \n",
    "curr_coords = shen_dictionary[curr_region + 1]['coords'] \n",
    "    \n",
    "ax1 = f.add_subplot(211)\n",
    "ax1.plot(scipy.stats.zscore(suspense), color = 'red',   label = 'Suspense (CRM)');\n",
    "ax1.plot(scipy.stats.zscore(dyn_isc_result[0,:,curr_region]),             color = 'blue', label = 'dynISC regional (lowest)');\n",
    "ax1.plot(scipy.stats.zscore(dyn_isc_result[1,:,curr_region]),             color = 'blue', label = 'dynISC regional (low)');\n",
    "ax1.plot(scipy.stats.zscore(dyn_isc_result[2,:,curr_region]),             color = 'blue', label = 'dynISC regional (high)');\n",
    "ax1.plot(scipy.stats.zscore(dyn_isc_result[3,:,curr_region]),             color = 'red', label = 'dynISC regional (highest)');\n",
    "\n",
    "\n",
    "plt.legend(loc = 0)\n",
    "plt.ylim(-3, 3)\n",
    "plt.xlabel('Time')\n",
    "plt.ylabel('low   ISC | Suspsense (z-scored)    high')\n",
    "plt.xticks([]);\n",
    "plt.yticks([]);\n",
    "sns.despine()\n",
    "\n",
    "ax2 = f.add_subplot(212)    \n",
    "nilearn.plotting.plot_stat_map(nilearn.image.index_img(region_img,0),threshold = 0.45, vmax = 1., draw_cross = True,colorbar = False,\n",
    "                                       cmap = 'PuBu',  annotate = False,cut_coords = curr_coords,\n",
    "                                       title = str(curr_region),axes = ax2);\n",
    "    \n",
    "print(np.corrcoef(\n",
    "                    (scipy.stats.zscore(dyn_isc_result[1,:,curr_region]) ),\n",
    "                     scipy.stats.zscore(suspense))[0,1]) "
   ]
  },
  {
   "cell_type": "code",
   "execution_count": null,
   "metadata": {},
   "outputs": [],
   "source": [
    "for i in range(4):\n",
    "    print(np.corrcoef(\n",
    "                    (scipy.stats.zscore(dyn_isc_result[i,:,curr_region]) ),\n",
    "                     scipy.stats.zscore(suspense))[0,1]) "
   ]
  },
  {
   "cell_type": "markdown",
   "metadata": {},
   "source": [
    "### ISC/dynISC on motion data"
   ]
  },
  {
   "cell_type": "code",
   "execution_count": null,
   "metadata": {},
   "outputs": [],
   "source": [
    "\n",
    "D = motion_data\n",
    "print('Calculating ISC on ', D.shape[1], ' regions/variables and ', D.shape[2], ' subjects')\n",
    "motionISC = camcan_isc(D, summary_statistic=np.mean, verbose = True)\n",
    "motionISC"
   ]
  },
  {
   "cell_type": "code",
   "execution_count": null,
   "metadata": {},
   "outputs": [],
   "source": [
    "i = 2\n",
    "m1mean = np.nanmean(motion_data[:,i,:248], axis = 1)\n",
    "m2mean = np.nanmean(motion_data[:,i,248:], axis = 1)\n",
    "\n",
    "f = plt.figure(figsize=(8,2))\n",
    "plt.plot((m1mean), label = 'avg-group1');\n",
    "plt.plot((m2mean), label = 'avg-group2');\n",
    "plt.xlabel('time');\n",
    "plt.ylabel('motion');\n",
    "plt.legend(loc = 1)\n",
    "plt.show()\n",
    "\n",
    "print(np.corrcoef(m1mean, m2mean)[0,1])\n",
    "# pretty surprising how reliable motion can be - at least in part.\n",
    "# note that this is residual motion after pretty strict thresholding (see extraction notebook)\n",
    "# however, it is considerably lower than the brain-ISC (see main ISC notebook where such group-averaged \n",
    "# timeseries are nearly 1 in all regions)"
   ]
  },
  {
   "cell_type": "code",
   "execution_count": null,
   "metadata": {},
   "outputs": [],
   "source": [
    "subject_chunks = [[0, int(n_subjs/2)],\n",
    "                  [int(n_subjs/2), n_subjs]]\n",
    "\n",
    "n_iterations = len(subject_chunks)\n",
    "\n",
    "D = motion_data;\n",
    "dyn_motion_isc_result_all = camcan_sliding_isc(D)\n",
    "dyn_motion_isc_result = np.zeros((n_iterations, n_tr, motion_data.shape[1]))\n",
    "\n",
    "sub_index = np.arange(n_subjs)\n",
    "np.random.shuffle(sub_index)\n",
    "\n",
    "for curr_sample in range(n_iterations): \n",
    "    print('Working on subgroup #', (curr_sample +1 ), ' of ', n_iterations)\n",
    "    people_to_use = np.arange(subject_chunks[curr_sample][0], subject_chunks[curr_sample][1], 1)\n",
    "\n",
    "    D = motion_data[:,:,sub_index[people_to_use] ]\n",
    "    dyn_motion_isc_result[curr_sample, :, :] = camcan_sliding_isc(D)\n"
   ]
  },
  {
   "cell_type": "code",
   "execution_count": null,
   "metadata": {},
   "outputs": [],
   "source": [
    "f = plt.figure(figsize=(10,5))\n",
    "ax1 = f.add_subplot(111)\n",
    "\n",
    "#ax1.plot(scipy.stats.zscore(dyn_isc_result[0,14,:]), \n",
    "#         color = 'blue', label = 'Group1 d-ISC aMCC');\n",
    "#ax1.plot(scipy.stats.zscore(dyn_isc_result[1,14,:]), \n",
    "#         color = 'blue', label = 'Group2 d-ISC aMCC');\n",
    "\n",
    "ax1.plot(scipy.stats.zscore(np.mean(dyn_motion_isc_result[0,:,:], axis=1)), \n",
    "         alpha = 0.3, color = 'orange', label = 'Group1 d-ISC Motion');\n",
    "ax1.plot(scipy.stats.zscore(np.mean(dyn_motion_isc_result[1,:,:], axis=1)), \n",
    "         alpha = 0.3, color = 'orange', label = 'Group2 d-ISC Motion');\n",
    "\n",
    "ax1.plot(scipy.stats.zscore(suspense), color = 'red');\n",
    "plt.legend();\n",
    "plt.xlabel('Time');\n",
    "plt.ylabel('ISC | Suspense');"
   ]
  },
  {
   "cell_type": "code",
   "execution_count": null,
   "metadata": {},
   "outputs": [],
   "source": [
    "for i in range(6):\n",
    "    print(np.corrcoef(scipy.stats.zscore(dyn_motion_isc_result[0,:,i]),\n",
    "                              scipy.stats.zscore(suspense) )[0,1])"
   ]
  },
  {
   "cell_type": "code",
   "execution_count": null,
   "metadata": {},
   "outputs": [],
   "source": [
    "print(np.corrcoef( scipy.stats.zscore(np.mean(dyn_motion_isc_result[0,:,:], axis=1)) ,\n",
    "                              scipy.stats.zscore(suspense) )[0,1])\n",
    "\n"
   ]
  },
  {
   "cell_type": "code",
   "execution_count": null,
   "metadata": {},
   "outputs": [],
   "source": [
    "np.corrcoef( scipy.stats.zscore(np.mean(dyn_motion_isc_result[0,:,:], axis=1))  ,\n",
    "             scipy.stats.zscore( dyn_isc_result[0,:,6]  ) )[0,1]"
   ]
  },
  {
   "cell_type": "markdown",
   "metadata": {},
   "source": [
    "### dynISC on lowMo/highMo subgroups"
   ]
  },
  {
   "cell_type": "code",
   "execution_count": null,
   "metadata": {},
   "outputs": [],
   "source": [
    "n_iterations = len(stiffler_shaker_list) #stifflers vs. shakers\n",
    "dyn_isc_motion_result = np.zeros((n_iterations, n_tr, motion_data.shape[1]))\n",
    "\n",
    "for curr_sample in range(n_iterations): \n",
    "    print('Working on subgroup #', (curr_sample +1 ), ' of ', n_iterations)\n",
    "    people_to_use = stiffler_shaker_list[curr_sample]\n",
    "    print('working with those indices ...')\n",
    "    print(people_to_use)\n",
    "\n",
    "    #D = ts_data[:,:, people_to_use ]\n",
    "    D = motion_data[:,:,people_to_use ]\n",
    "    dyn_isc_motion_result[curr_sample, :, :] = camcan_sliding_isc(D)\n",
    "\n",
    "### save results - because computing them every time from scratch takes a lot of time \n",
    "### we save the output here so we can load it quicker later on\n",
    "\n",
    "dyn_isc_motion_dict = {}\n",
    "dyn_isc_motion_dict['dyn_isc_result_stiffler_shaker'] = dyn_isc_motion_result\n"
   ]
  },
  {
   "cell_type": "code",
   "execution_count": null,
   "metadata": {},
   "outputs": [],
   "source": [
    "curr_region = 6 \n",
    "shen_dictionary = np.load(shen_dictionary_file).item()\n",
    "curr_title = shen_dictionary[curr_region + 1]['name'] \n",
    "curr_coords = shen_dictionary[curr_region + 1]['coords'] \n",
    "\n",
    "f = plt.figure(figsize=(8,8))\n",
    "region_vector = np.zeros((1,268))\n",
    "region_vector[0,curr_region] = 0.5\n",
    "region_img = shen_masker.inverse_transform(region_vector);\n",
    "\n",
    "curr_title = shen_dictionary[curr_region + 1]['name'] \n",
    "curr_coords = shen_dictionary[curr_region + 1]['coords'] \n",
    "    \n",
    "ax1 = f.add_subplot(211)\n",
    "ax1.plot(scipy.stats.zscore(suspense), color = 'red',   label = 'Suspense (CRM)');\n",
    "ax1.plot(scipy.stats.zscore(dyn_isc_motion_result[0,:,0]),             color = 'blue', label = 'dynISC regional (lowest)');\n",
    "ax1.plot(scipy.stats.zscore(dyn_isc_motion_result[1,:,0]),             color = 'blue', label = 'dynISC regional (low)');\n",
    "ax1.plot(scipy.stats.zscore(dyn_isc_motion_result[2,:,0]),             color = 'blue', label = 'dynISC regional (high)');\n",
    "ax1.plot(scipy.stats.zscore(dyn_isc_motion_result[3,:,0]),             color = 'red', label = 'dynISC regional (highest)');\n",
    "\n",
    "\n",
    "plt.legend(loc = 0)\n",
    "plt.ylim(-3, 3)\n",
    "plt.xlabel('Time')\n",
    "plt.ylabel('low   ISC | Suspsense (z-scored)    high')\n",
    "plt.xticks([]);\n",
    "plt.yticks([]);\n",
    "sns.despine()\n",
    "\n",
    "ax2 = f.add_subplot(212)    \n",
    "nilearn.plotting.plot_stat_map(nilearn.image.index_img(region_img,0),threshold = 0.45, vmax = 1., draw_cross = True,colorbar = False,\n",
    "                                       cmap = 'PuBu',  annotate = False,cut_coords = curr_coords,\n",
    "                                       title = str(curr_region),axes = ax2);\n",
    "    \n",
    "for i in range(6):\n",
    "    print(np.corrcoef(scipy.stats.zscore(dyn_isc_motion_result[0,:,i]),\n",
    "                              scipy.stats.zscore(suspense) )[0,1])"
   ]
  },
  {
   "cell_type": "code",
   "execution_count": null,
   "metadata": {},
   "outputs": [],
   "source": [
    "(dyn_isc_result[0,:,3])"
   ]
  },
  {
   "cell_type": "code",
   "execution_count": null,
   "metadata": {},
   "outputs": [],
   "source": [
    "dyn_isc_result_all.shape"
   ]
  },
  {
   "cell_type": "code",
   "execution_count": null,
   "metadata": {},
   "outputs": [],
   "source": [
    "dyn_motion_isc_result_all.shape"
   ]
  },
  {
   "cell_type": "code",
   "execution_count": null,
   "metadata": {},
   "outputs": [],
   "source": [
    "np.corrcoef(np.nanmean(dyn_isc_result_all[:,:], axis=1), \n",
    "            np.nanmean(dyn_motion_isc_result_all[:,:], axis=1))"
   ]
  },
  {
   "cell_type": "code",
   "execution_count": null,
   "metadata": {},
   "outputs": [],
   "source": [
    "from pandas import DataFrame\n",
    "import statsmodels.api as sm\n",
    "\n",
    "dd =           {'suspense': scipy.stats.zscore(suspense),\n",
    "                'motion_overall': scipy.stats.zscore(np.nanmean(dyn_motion_isc_result_all[:,:], axis=1)) ,\n",
    "                'dyn_isc_wholebrain': scipy.stats.zscore(np.nanmean(dyn_isc_result_all[:,:], axis=1)),\n",
    "               }\n",
    "\n",
    "df = DataFrame(dd ,columns=['suspense','motion_overall','dyn_isc_wholebrain']) \n",
    "sns.pairplot(df);"
   ]
  },
  {
   "cell_type": "code",
   "execution_count": null,
   "metadata": {},
   "outputs": [],
   "source": [
    "import statsmodels.api as sm\n",
    "import statsmodels.formula.api as smf\n",
    "\n",
    "mod = smf.ols(formula = 'suspense ~ dyn_isc_wholebrain + motion_overall', data = df)\n",
    "res = mod.fit()\n",
    "\n",
    "res.summary()"
   ]
  },
  {
   "cell_type": "code",
   "execution_count": null,
   "metadata": {},
   "outputs": [],
   "source": []
  },
  {
   "cell_type": "code",
   "execution_count": null,
   "metadata": {},
   "outputs": [],
   "source": [
    "df.corr()"
   ]
  },
  {
   "cell_type": "markdown",
   "metadata": {},
   "source": [
    "### reviewer comment auditory , visual"
   ]
  },
  {
   "cell_type": "code",
   "execution_count": null,
   "metadata": {},
   "outputs": [],
   "source": [
    "curr_region = 196 \n",
    "shen_dictionary = np.load(shen_dictionary_file).item()\n",
    "curr_title = shen_dictionary[curr_region + 1]['name'] \n",
    "curr_coords = shen_dictionary[curr_region + 1]['coords'] \n",
    "\n",
    "f = plt.figure(figsize=(8,8))\n",
    "region_vector = np.zeros((1,268))\n",
    "region_vector[0,curr_region] = 0.5\n",
    "region_img = shen_masker.inverse_transform(region_vector);\n",
    "\n",
    "curr_title = shen_dictionary[curr_region + 1]['name'] \n",
    "curr_coords = shen_dictionary[curr_region + 1]['coords'] \n",
    "    \n",
    "ax1 = f.add_subplot(211)\n",
    "ax1.plot(scipy.stats.zscore(suspense), color = 'red', linestyle = ':' , label = 'Suspense (CRM)');\n",
    "ax1.plot(scipy.stats.zscore(dyn_isc_result_all[:,196]),             color = 'blue', label = 'dynISC auditory (all)');\n",
    "ax1.plot(scipy.stats.zscore(dyn_isc_result_all[:,203]),             color = 'green', label = 'dynISC visual (all)');\n",
    "\n",
    "plt.legend(loc = 0)\n",
    "plt.ylim(-3, 3)\n",
    "plt.xlabel('Time')\n",
    "plt.ylabel('low   ISC | Suspsense (z-scored)    high')\n",
    "plt.xticks([]);\n",
    "plt.yticks([]);\n",
    "sns.despine()\n",
    "\n",
    "ax2 = f.add_subplot(212)    \n",
    "nilearn.plotting.plot_stat_map(nilearn.image.index_img(region_img,0),threshold = 0.45, vmax = 1., draw_cross = True,colorbar = False,\n",
    "                                       cmap = 'PuBu',  annotate = False,cut_coords = curr_coords,\n",
    "                                       title = str(curr_region),axes = ax2);\n",
    "    \n",
    "print(np.corrcoef(\n",
    "                    (scipy.stats.zscore(dyn_isc_result_all[:,curr_region]) ),\n",
    "                     scipy.stats.zscore(suspense))[0,1]) "
   ]
  },
  {
   "cell_type": "code",
   "execution_count": null,
   "metadata": {},
   "outputs": [],
   "source": [
    "print(np.mean(dyn_isc_result_all[:,196]))\n",
    "print(np.std(dyn_isc_result_all[:,196]))\n",
    "print(np.min(dyn_isc_result_all[:,196]))\n",
    "print(np.max(dyn_isc_result_all[:,196]))"
   ]
  },
  {
   "cell_type": "markdown",
   "metadata": {},
   "source": [
    "### subgroup dynISC\n"
   ]
  },
  {
   "cell_type": "code",
   "execution_count": null,
   "metadata": {},
   "outputs": [],
   "source": [
    "# create four groups\n",
    "title_list = ['senior_females',\n",
    "              'senior_males',\n",
    "              'young_females',\n",
    "              'young_males']\n",
    "\n",
    "senior_females = np.intersect1d(np.where((gender_data == 2)), \n",
    "                  np.where(age_data > np.mean(age_data)), \n",
    "                  assume_unique=False)\n",
    "\n",
    "senior_males = np.intersect1d(np.where((gender_data == 1)), \n",
    "                  np.where(age_data > np.mean(age_data)), \n",
    "                  assume_unique=False)\n",
    "\n",
    "young_females = np.intersect1d(np.where((gender_data == 2)), \n",
    "                  np.where(age_data < np.mean(age_data)), \n",
    "                  assume_unique=False)\n",
    "\n",
    "young_males = np.intersect1d(np.where((gender_data == 1)), \n",
    "                  np.where(age_data < np.mean(age_data)), \n",
    "                  assume_unique=False)\n",
    "\n",
    "cond_list = [senior_females, senior_males, young_females, young_males]\n",
    "\n",
    "# compute ISC and plot\n",
    "\n",
    "n_iterations = len(cond_list) \n",
    "dyn_isc_subgroup_result = np.zeros((n_iterations, n_tr, n_regions))\n",
    "\n",
    "\n",
    "for curr_sample in range(n_iterations):\n",
    "    curr_subs = cond_list[curr_sample]\n",
    "    print(curr_subs)\n",
    "    D = ts_data[:,:,curr_subs]\n",
    "    \n",
    "    \n",
    "    dyn_isc_subgroup_result[curr_sample, :, :] = camcan_sliding_isc(D)\n",
    "    \n",
    "    "
   ]
  },
  {
   "cell_type": "code",
   "execution_count": null,
   "metadata": {},
   "outputs": [],
   "source": [
    "curr_region = 6\n",
    "\n",
    "f = plt.figure(figsize=(8,8))\n",
    "\n",
    "curr_title = shen_dictionary[curr_region + 1]['name'] \n",
    "curr_coords = shen_dictionary[curr_region + 1]['coords'] \n",
    "    \n",
    "ax1 = f.add_subplot(211)\n",
    "#ax1.plot(scipy.stats.zscore(suspense), color = 'red',   label = 'Suspense (CRM)');\n",
    "ax1.plot(scipy.stats.zscore(np.nanmean(dyn_isc_subgroup_result[0,:,:], axis=1)),              label = 'dynISC regional (agesex1)');\n",
    "ax1.plot(scipy.stats.zscore(np.nanmean(dyn_isc_subgroup_result[1,:,:], axis=1)),              label = 'dynISC regional (agesex1)');\n",
    "ax1.plot(scipy.stats.zscore(np.nanmean(dyn_isc_subgroup_result[2,:,:], axis=1)),              label = 'dynISC regional (agesex1)');\n",
    "ax1.plot(scipy.stats.zscore(np.nanmean(dyn_isc_subgroup_result[3,:,:], axis=1)),              label = 'dynISC regional (agesex1)');\n"
   ]
  },
  {
   "cell_type": "markdown",
   "metadata": {},
   "source": [
    "### Permutation dynISC\n",
    "\n"
   ]
  },
  {
   "cell_type": "code",
   "execution_count": null,
   "metadata": {},
   "outputs": [],
   "source": [
    " \n",
    "### compute main sliding window analysis across full data (takes a while - hence precomputed)\n",
    "\n",
    "n_iterations = 100\n",
    "\n",
    "#### set up two sub-samples (for consistency check)\n",
    "subject_chunks = [[0, int(n_subjs/2)],\n",
    "                  [int(n_subjs/2), n_subjs]]\n",
    "\n",
    "n_subgroups = len(subject_chunks)\n",
    "\n",
    "dyn_isc_result = np.zeros((n_iterations ,n_tr, n_regions))\n",
    "\n",
    "\n",
    "for curr_iteration in range(n_iterations):\n",
    "    print('Working on iteration #', (curr_iteration +1 ), ' of ', n_iterations)\n",
    "    \n",
    "    #randomize subject array\n",
    "    sub_index = np.arange(n_subjs)\n",
    "    np.random.shuffle(sub_index)\n",
    "\n",
    "    people_to_use = np.arange(subject_chunks[0][0], subject_chunks[0][1], 1)\n",
    "    D = ts_data[:,:,sub_index[people_to_use] ]\n",
    "    dyn_isc_result[curr_iteration,0, :, :] = camcan_sliding_isc(D)\n",
    "    \n",
    "    \n",
    "\n",
    "### save results - because computing them every time from scratch takes a lot of time \n",
    "### we save the output here so we can load it quicker later on\n",
    "\n",
    "dyn_isc_dict = {}\n",
    "dyn_isc_dict['dyn_isc_result_splithalf'] = dyn_isc_result\n",
    "\n",
    "np.save('../data/dyn_isc_dict_resampled.npy', dyn_isc_dict) \n",
    "\n",
    "\n",
    "# if precomputed\n",
    "#dyn_isc_dict = np.load(dyn_isc_file).item() \n",
    "#dyn_isc_dict.keys()\n",
    "#dyn_isc_result_all = dyn_isc_dict['dyn_isc_result_all']\n",
    "#dyn_isc_result = dyn_isc_dict['dyn_isc_result_splithalf']\n"
   ]
  },
  {
   "cell_type": "code",
   "execution_count": null,
   "metadata": {},
   "outputs": [],
   "source": [
    "dyn_isc_result = dyn_isc_result[:50,:,:]"
   ]
  },
  {
   "cell_type": "code",
   "execution_count": null,
   "metadata": {},
   "outputs": [],
   "source": [
    "\n",
    "dyn_isc_dict = {}\n",
    "dyn_isc_dict['dyn_isc_result_splithalf'] = dyn_isc_result\n",
    "\n",
    "np.save('../data/dyn_isc_dict_resampledLARGE.npy', dyn_isc_dict) \n",
    "\n"
   ]
  },
  {
   "cell_type": "code",
   "execution_count": null,
   "metadata": {},
   "outputs": [],
   "source": [
    "dyn_isc_result.shape"
   ]
  },
  {
   "cell_type": "code",
   "execution_count": null,
   "metadata": {},
   "outputs": [],
   "source": [
    "dyn_isc_file = '../data/dyn_isc_dict_resampledF.npy'\n",
    "dyn_isc_dict = np.load(dyn_isc_file).item() \n",
    "dyn_isc_result_f = dyn_isc_dict['dyn_isc_result_splithalf']\n"
   ]
  },
  {
   "cell_type": "code",
   "execution_count": null,
   "metadata": {},
   "outputs": [],
   "source": [
    "dyn_isc_result_many = np.vstack((dyn_isc_result[:38,:,:], \n",
    "                                 #dyn_isc_result[48:,:,:],\n",
    "           dyn_isc_result_a,\n",
    "           dyn_isc_result_b,\n",
    "            \n",
    "           dyn_isc_result_c,\n",
    "           dyn_isc_result_d,\n",
    "           dyn_isc_result_e,\n",
    "                                 dyn_isc_result_b[:2,:,:],\n",
    "           dyn_isc_result_f               ))"
   ]
  },
  {
   "cell_type": "code",
   "execution_count": null,
   "metadata": {},
   "outputs": [],
   "source": [
    "dyn_isc_result_many.shape"
   ]
  },
  {
   "cell_type": "code",
   "execution_count": null,
   "metadata": {},
   "outputs": [],
   "source": [
    "dyn_isc_dict = {}\n",
    "dyn_isc_dict['dyn_isc_result_splithalf'] = dyn_isc_result_many\n",
    "\n",
    "np.save('../data/dyn_isc_dict_resampled100.npy', dyn_isc_dict) \n"
   ]
  },
  {
   "cell_type": "code",
   "execution_count": null,
   "metadata": {},
   "outputs": [],
   "source": [
    "plt.plot(np.squeeze(np.nanmean(dyn_isc_result_many, axis=2)).T);"
   ]
  },
  {
   "cell_type": "code",
   "execution_count": null,
   "metadata": {},
   "outputs": [],
   "source": [
    "np.squeeze(np.nanmean(dyn_isc_result_many, axis=2)).shape"
   ]
  },
  {
   "cell_type": "code",
   "execution_count": null,
   "metadata": {},
   "outputs": [],
   "source": [
    "d = np.hstack(np.squeeze(np.nanmean(dyn_isc_result_many, axis=2)))\n",
    "h = np.hstack([np.arange(193)] * 100)\n",
    "dh = np.vstack((d,h)).T\n",
    "df_dh = pd.DataFrame(data =  dh, columns = ['a','b'])\n",
    "\n",
    "\n",
    "f = plt.figure(figsize=(8,4));\n",
    "sns.lineplot(x=\"b\", \n",
    "             y=\"a\", \n",
    "             color = 'red',\n",
    "             ci = 'sd',\n",
    "             data=df_dh);\n",
    "plt.plot(np.nanmean(np.squeeze(np.nanmean(dyn_isc_result_many, axis=2)), axis=0), color ='red');\n",
    "plt.ylabel('low                dynamic ISC                 high');\n",
    "plt.xlabel('Time');\n",
    "#plt.ylim(-2.5,2);\n",
    "plt.xticks([]);\n",
    "plt.yticks([]);\n",
    "sns.despine();"
   ]
  },
  {
   "cell_type": "code",
   "execution_count": null,
   "metadata": {},
   "outputs": [],
   "source": []
  }
 ],
 "metadata": {
  "kernelspec": {
   "display_name": "Python 3",
   "language": "python",
   "name": "python3"
  },
  "language_info": {
   "codemirror_mode": {
    "name": "ipython",
    "version": 3
   },
   "file_extension": ".py",
   "mimetype": "text/x-python",
   "name": "python",
   "nbconvert_exporter": "python",
   "pygments_lexer": "ipython3",
   "version": "3.6.8"
  }
 },
 "nbformat": 4,
 "nbformat_minor": 2
}
